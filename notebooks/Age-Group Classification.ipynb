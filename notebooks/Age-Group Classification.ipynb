{
  "nbformat": 4,
  "nbformat_minor": 0,
  "metadata": {
    "colab": {
      "name": "Age-GroupClassification.ipynb",
      "provenance": [],
      "collapsed_sections": [],
      "machine_shape": "hm"
    },
    "kernelspec": {
      "name": "python3",
      "display_name": "Python 3"
    },
    "accelerator": "GPU"
  },
  "cells": [
    {
      "cell_type": "code",
      "metadata": {
        "id": "NgZutqCFr5wR",
        "colab_type": "code",
        "colab": {
          "base_uri": "https://localhost:8080/",
          "height": 121
        },
        "outputId": "8cac1ea0-63ee-40cc-afcd-fd607a702ef3"
      },
      "source": [
        "from google.colab import drive\n",
        "drive.mount('/content/drive')"
      ],
      "execution_count": null,
      "outputs": [
        {
          "output_type": "stream",
          "text": [
            "Go to this URL in a browser: https://accounts.google.com/o/oauth2/auth?client_id=947318989803-6bn6qk8qdgf4n4g3pfee6491hc0brc4i.apps.googleusercontent.com&redirect_uri=urn%3aietf%3awg%3aoauth%3a2.0%3aoob&response_type=code&scope=email%20https%3a%2f%2fwww.googleapis.com%2fauth%2fdocs.test%20https%3a%2f%2fwww.googleapis.com%2fauth%2fdrive%20https%3a%2f%2fwww.googleapis.com%2fauth%2fdrive.photos.readonly%20https%3a%2f%2fwww.googleapis.com%2fauth%2fpeopleapi.readonly\n",
            "\n",
            "Enter your authorization code:\n",
            "··········\n",
            "Mounted at /content/drive\n"
          ],
          "name": "stdout"
        }
      ]
    },
    {
      "cell_type": "code",
      "metadata": {
        "id": "_kTFrNNPU7wP",
        "colab_type": "code",
        "colab": {}
      },
      "source": [
        "import pandas as pd\n",
        "import numpy as np\n",
        "import matplotlib.pyplot as plt\n",
        "\n",
        "import cv2\n",
        "import os\n",
        "from zipfile import ZipFile\n",
        "import time\n",
        "from datetime import datetime\n",
        "import itertools\n",
        "\n",
        "from sklearn.model_selection import train_test_split\n",
        "from sklearn.metrics import confusion_matrix\n",
        "\n",
        "import tensorflow as tf\n",
        "from tensorflow.keras.models import Sequential\n",
        "from tensorflow.keras.layers import *\n",
        "from tensorflow.keras import utils\n",
        "from tensorflow.keras.callbacks import TensorBoard, ModelCheckpoint"
      ],
      "execution_count": null,
      "outputs": []
    },
    {
      "cell_type": "markdown",
      "metadata": {
        "id": "rL5nYQpzVSs6",
        "colab_type": "text"
      },
      "source": [
        "# Data Preprocessing"
      ]
    },
    {
      "cell_type": "code",
      "metadata": {
        "id": "tCN57I6AU7_g",
        "colab_type": "code",
        "colab": {
          "base_uri": "https://localhost:8080/",
          "height": 34
        },
        "outputId": "3b4e5800-59d6-49a2-bc67-fb8db99b9315"
      },
      "source": [
        "combined_faces_zip_path = \"/content/drive/My Drive/Age_Classification_with_Faces/DATASETS/combined_faces.zip\"\n",
        "\n",
        "with ZipFile(combined_faces_zip_path, 'r') as myzip:\n",
        "    myzip.extractall()\n",
        "    print('Done unzipping combined_faces.zip')"
      ],
      "execution_count": null,
      "outputs": [
        {
          "output_type": "stream",
          "text": [
            "Done unzipping combined_faces.zip\n"
          ],
          "name": "stdout"
        }
      ]
    },
    {
      "cell_type": "code",
      "metadata": {
        "id": "q61d9-wxU8Ea",
        "colab_type": "code",
        "colab": {
          "base_uri": "https://localhost:8080/",
          "height": 34
        },
        "outputId": "0e414670-6661-4806-ae8f-0d77468366cd"
      },
      "source": [
        "combined_faces_zip_path = \"/content/drive/My Drive/Age_Classification_with_Faces/DATASETS/combined_faces_train_augmented.zip\"\n",
        "\n",
        "with ZipFile(combined_faces_zip_path, 'r') as myzip:\n",
        "    myzip.extractall()\n",
        "    print('Done unzipping combined_faces_train_augmented.zip')"
      ],
      "execution_count": null,
      "outputs": [
        {
          "output_type": "stream",
          "text": [
            "Done unzipping combined_faces_train_augmented.zip\n"
          ],
          "name": "stdout"
        }
      ]
    },
    {
      "cell_type": "code",
      "metadata": {
        "id": "Yu50xj5jU8I6",
        "colab_type": "code",
        "colab": {}
      },
      "source": [
        "train_aug_df = pd.read_csv(\"/content/drive/My Drive/Age_Classification_with_Faces/images_filenames_labels_train_augmented.csv\")\n",
        "test_df = pd.read_csv(\"/content/drive/My Drive/Age_Classification_with_Faces/images_filenames_labels_test.csv\")"
      ],
      "execution_count": null,
      "outputs": []
    },
    {
      "cell_type": "code",
      "metadata": {
        "id": "TgRflp79U8N1",
        "colab_type": "code",
        "colab": {
          "base_uri": "https://localhost:8080/",
          "height": 195
        },
        "outputId": "797b2c2c-c9fb-4069-9629-75310540f64e"
      },
      "source": [
        "train_aug_df.drop(columns=['target'], inplace=True)\n",
        "train_aug_df.head()"
      ],
      "execution_count": null,
      "outputs": [
        {
          "output_type": "execute_result",
          "data": {
            "text/html": [
              "<div>\n",
              "<style scoped>\n",
              "    .dataframe tbody tr th:only-of-type {\n",
              "        vertical-align: middle;\n",
              "    }\n",
              "\n",
              "    .dataframe tbody tr th {\n",
              "        vertical-align: top;\n",
              "    }\n",
              "\n",
              "    .dataframe thead th {\n",
              "        text-align: right;\n",
              "    }\n",
              "</style>\n",
              "<table border=\"1\" class=\"dataframe\">\n",
              "  <thead>\n",
              "    <tr style=\"text-align: right;\">\n",
              "      <th></th>\n",
              "      <th>filename</th>\n",
              "      <th>age</th>\n",
              "    </tr>\n",
              "  </thead>\n",
              "  <tbody>\n",
              "    <tr>\n",
              "      <th>0</th>\n",
              "      <td>/content/content/combined_faces_train_augmente...</td>\n",
              "      <td>43</td>\n",
              "    </tr>\n",
              "    <tr>\n",
              "      <th>1</th>\n",
              "      <td>/content/content/combined_faces_train_augmente...</td>\n",
              "      <td>71</td>\n",
              "    </tr>\n",
              "    <tr>\n",
              "      <th>2</th>\n",
              "      <td>/content/content/combined_faces_train_augmente...</td>\n",
              "      <td>6</td>\n",
              "    </tr>\n",
              "    <tr>\n",
              "      <th>3</th>\n",
              "      <td>/content/content/combined_faces_train_augmente...</td>\n",
              "      <td>18</td>\n",
              "    </tr>\n",
              "    <tr>\n",
              "      <th>4</th>\n",
              "      <td>/content/content/combined_faces_train_augmente...</td>\n",
              "      <td>25</td>\n",
              "    </tr>\n",
              "  </tbody>\n",
              "</table>\n",
              "</div>"
            ],
            "text/plain": [
              "                                            filename  age\n",
              "0  /content/content/combined_faces_train_augmente...   43\n",
              "1  /content/content/combined_faces_train_augmente...   71\n",
              "2  /content/content/combined_faces_train_augmente...    6\n",
              "3  /content/content/combined_faces_train_augmente...   18\n",
              "4  /content/content/combined_faces_train_augmente...   25"
            ]
          },
          "metadata": {
            "tags": []
          },
          "execution_count": 8
        }
      ]
    },
    {
      "cell_type": "code",
      "metadata": {
        "id": "BcFPQNl7U8SZ",
        "colab_type": "code",
        "colab": {
          "base_uri": "https://localhost:8080/",
          "height": 195
        },
        "outputId": "3cf509ae-129e-4b5f-e4f3-43c5fdaf4054"
      },
      "source": [
        "test_df.drop(columns=['target'], inplace=True)\n",
        "test_df.head()"
      ],
      "execution_count": null,
      "outputs": [
        {
          "output_type": "execute_result",
          "data": {
            "text/html": [
              "<div>\n",
              "<style scoped>\n",
              "    .dataframe tbody tr th:only-of-type {\n",
              "        vertical-align: middle;\n",
              "    }\n",
              "\n",
              "    .dataframe tbody tr th {\n",
              "        vertical-align: top;\n",
              "    }\n",
              "\n",
              "    .dataframe thead th {\n",
              "        text-align: right;\n",
              "    }\n",
              "</style>\n",
              "<table border=\"1\" class=\"dataframe\">\n",
              "  <thead>\n",
              "    <tr style=\"text-align: right;\">\n",
              "      <th></th>\n",
              "      <th>filename</th>\n",
              "      <th>age</th>\n",
              "    </tr>\n",
              "  </thead>\n",
              "  <tbody>\n",
              "    <tr>\n",
              "      <th>0</th>\n",
              "      <td>/content/content/combined_faces/8_163.jpg</td>\n",
              "      <td>8</td>\n",
              "    </tr>\n",
              "    <tr>\n",
              "      <th>1</th>\n",
              "      <td>/content/content/combined_faces/38_66.jpg</td>\n",
              "      <td>38</td>\n",
              "    </tr>\n",
              "    <tr>\n",
              "      <th>2</th>\n",
              "      <td>/content/content/combined_faces/40_177.jpg</td>\n",
              "      <td>40</td>\n",
              "    </tr>\n",
              "    <tr>\n",
              "      <th>3</th>\n",
              "      <td>/content/content/combined_faces/36_267.jpg</td>\n",
              "      <td>36</td>\n",
              "    </tr>\n",
              "    <tr>\n",
              "      <th>4</th>\n",
              "      <td>/content/content/combined_faces/8_349.jpg</td>\n",
              "      <td>8</td>\n",
              "    </tr>\n",
              "  </tbody>\n",
              "</table>\n",
              "</div>"
            ],
            "text/plain": [
              "                                     filename  age\n",
              "0   /content/content/combined_faces/8_163.jpg    8\n",
              "1   /content/content/combined_faces/38_66.jpg   38\n",
              "2  /content/content/combined_faces/40_177.jpg   40\n",
              "3  /content/content/combined_faces/36_267.jpg   36\n",
              "4   /content/content/combined_faces/8_349.jpg    8"
            ]
          },
          "metadata": {
            "tags": []
          },
          "execution_count": 9
        }
      ]
    },
    {
      "cell_type": "code",
      "metadata": {
        "id": "5D3RBtwwU8W1",
        "colab_type": "code",
        "colab": {
          "base_uri": "https://localhost:8080/",
          "height": 34
        },
        "outputId": "19971e2f-0719-41a9-b9a7-ff1a6d4e5308"
      },
      "source": [
        "train_aug_df.shape"
      ],
      "execution_count": null,
      "outputs": [
        {
          "output_type": "execute_result",
          "data": {
            "text/plain": [
              "(234400, 2)"
            ]
          },
          "metadata": {
            "tags": []
          },
          "execution_count": 10
        }
      ]
    },
    {
      "cell_type": "code",
      "metadata": {
        "id": "J4Qz1-9mU8bN",
        "colab_type": "code",
        "colab": {
          "base_uri": "https://localhost:8080/",
          "height": 34
        },
        "outputId": "416eaeec-d5cc-47e7-94a0-03f821279d54"
      },
      "source": [
        "test_df.shape"
      ],
      "execution_count": null,
      "outputs": [
        {
          "output_type": "execute_result",
          "data": {
            "text/plain": [
              "(10046, 2)"
            ]
          },
          "metadata": {
            "tags": []
          },
          "execution_count": 11
        }
      ]
    },
    {
      "cell_type": "code",
      "metadata": {
        "id": "QqlcD7x6Yjcd",
        "colab_type": "code",
        "colab": {}
      },
      "source": [
        "def class_labels_reassign(age):\n",
        "\n",
        "    if 1 <= age <= 2:\n",
        "        return 0\n",
        "    elif 3 <= age <= 9:\n",
        "        return 1\n",
        "    elif 10 <= age <= 20:\n",
        "        return 2\n",
        "    elif 21 <= age <= 27:\n",
        "        return 3\n",
        "    elif 28 <= age <= 45:\n",
        "        return 4\n",
        "    elif 46 <= age <= 65:\n",
        "        return 5\n",
        "    else:\n",
        "        return 6"
      ],
      "execution_count": null,
      "outputs": []
    },
    {
      "cell_type": "code",
      "metadata": {
        "id": "LROsGcIaYjVr",
        "colab_type": "code",
        "colab": {}
      },
      "source": [
        "train_aug_df['target'] = train_aug_df['age'].map(class_labels_reassign)\n",
        "test_df['target'] = test_df['age'].map(class_labels_reassign)"
      ],
      "execution_count": null,
      "outputs": []
    },
    {
      "cell_type": "code",
      "metadata": {
        "id": "j51hK9VIaxo1",
        "colab_type": "code",
        "colab": {
          "base_uri": "https://localhost:8080/",
          "height": 195
        },
        "outputId": "b6bcdcd8-a04a-470d-f66d-9ae09504b709"
      },
      "source": [
        "train_aug_df.head()"
      ],
      "execution_count": null,
      "outputs": [
        {
          "output_type": "execute_result",
          "data": {
            "text/html": [
              "<div>\n",
              "<style scoped>\n",
              "    .dataframe tbody tr th:only-of-type {\n",
              "        vertical-align: middle;\n",
              "    }\n",
              "\n",
              "    .dataframe tbody tr th {\n",
              "        vertical-align: top;\n",
              "    }\n",
              "\n",
              "    .dataframe thead th {\n",
              "        text-align: right;\n",
              "    }\n",
              "</style>\n",
              "<table border=\"1\" class=\"dataframe\">\n",
              "  <thead>\n",
              "    <tr style=\"text-align: right;\">\n",
              "      <th></th>\n",
              "      <th>filename</th>\n",
              "      <th>age</th>\n",
              "      <th>target</th>\n",
              "    </tr>\n",
              "  </thead>\n",
              "  <tbody>\n",
              "    <tr>\n",
              "      <th>0</th>\n",
              "      <td>/content/content/combined_faces_train_augmente...</td>\n",
              "      <td>43</td>\n",
              "      <td>4</td>\n",
              "    </tr>\n",
              "    <tr>\n",
              "      <th>1</th>\n",
              "      <td>/content/content/combined_faces_train_augmente...</td>\n",
              "      <td>71</td>\n",
              "      <td>6</td>\n",
              "    </tr>\n",
              "    <tr>\n",
              "      <th>2</th>\n",
              "      <td>/content/content/combined_faces_train_augmente...</td>\n",
              "      <td>6</td>\n",
              "      <td>1</td>\n",
              "    </tr>\n",
              "    <tr>\n",
              "      <th>3</th>\n",
              "      <td>/content/content/combined_faces_train_augmente...</td>\n",
              "      <td>18</td>\n",
              "      <td>2</td>\n",
              "    </tr>\n",
              "    <tr>\n",
              "      <th>4</th>\n",
              "      <td>/content/content/combined_faces_train_augmente...</td>\n",
              "      <td>25</td>\n",
              "      <td>3</td>\n",
              "    </tr>\n",
              "  </tbody>\n",
              "</table>\n",
              "</div>"
            ],
            "text/plain": [
              "                                            filename  age  target\n",
              "0  /content/content/combined_faces_train_augmente...   43       4\n",
              "1  /content/content/combined_faces_train_augmente...   71       6\n",
              "2  /content/content/combined_faces_train_augmente...    6       1\n",
              "3  /content/content/combined_faces_train_augmente...   18       2\n",
              "4  /content/content/combined_faces_train_augmente...   25       3"
            ]
          },
          "metadata": {
            "tags": []
          },
          "execution_count": 14
        }
      ]
    },
    {
      "cell_type": "code",
      "metadata": {
        "id": "csZb53SYaxgu",
        "colab_type": "code",
        "colab": {
          "base_uri": "https://localhost:8080/",
          "height": 195
        },
        "outputId": "61ee85c7-8202-4e23-e8f9-fa35964f2bc4"
      },
      "source": [
        "test_df.head()"
      ],
      "execution_count": null,
      "outputs": [
        {
          "output_type": "execute_result",
          "data": {
            "text/html": [
              "<div>\n",
              "<style scoped>\n",
              "    .dataframe tbody tr th:only-of-type {\n",
              "        vertical-align: middle;\n",
              "    }\n",
              "\n",
              "    .dataframe tbody tr th {\n",
              "        vertical-align: top;\n",
              "    }\n",
              "\n",
              "    .dataframe thead th {\n",
              "        text-align: right;\n",
              "    }\n",
              "</style>\n",
              "<table border=\"1\" class=\"dataframe\">\n",
              "  <thead>\n",
              "    <tr style=\"text-align: right;\">\n",
              "      <th></th>\n",
              "      <th>filename</th>\n",
              "      <th>age</th>\n",
              "      <th>target</th>\n",
              "    </tr>\n",
              "  </thead>\n",
              "  <tbody>\n",
              "    <tr>\n",
              "      <th>0</th>\n",
              "      <td>/content/content/combined_faces/8_163.jpg</td>\n",
              "      <td>8</td>\n",
              "      <td>1</td>\n",
              "    </tr>\n",
              "    <tr>\n",
              "      <th>1</th>\n",
              "      <td>/content/content/combined_faces/38_66.jpg</td>\n",
              "      <td>38</td>\n",
              "      <td>4</td>\n",
              "    </tr>\n",
              "    <tr>\n",
              "      <th>2</th>\n",
              "      <td>/content/content/combined_faces/40_177.jpg</td>\n",
              "      <td>40</td>\n",
              "      <td>4</td>\n",
              "    </tr>\n",
              "    <tr>\n",
              "      <th>3</th>\n",
              "      <td>/content/content/combined_faces/36_267.jpg</td>\n",
              "      <td>36</td>\n",
              "      <td>4</td>\n",
              "    </tr>\n",
              "    <tr>\n",
              "      <th>4</th>\n",
              "      <td>/content/content/combined_faces/8_349.jpg</td>\n",
              "      <td>8</td>\n",
              "      <td>1</td>\n",
              "    </tr>\n",
              "  </tbody>\n",
              "</table>\n",
              "</div>"
            ],
            "text/plain": [
              "                                     filename  age  target\n",
              "0   /content/content/combined_faces/8_163.jpg    8       1\n",
              "1   /content/content/combined_faces/38_66.jpg   38       4\n",
              "2  /content/content/combined_faces/40_177.jpg   40       4\n",
              "3  /content/content/combined_faces/36_267.jpg   36       4\n",
              "4   /content/content/combined_faces/8_349.jpg    8       1"
            ]
          },
          "metadata": {
            "tags": []
          },
          "execution_count": 15
        }
      ]
    },
    {
      "cell_type": "code",
      "metadata": {
        "id": "jWpwyHjzYjQN",
        "colab_type": "code",
        "colab": {
          "base_uri": "https://localhost:8080/",
          "height": 151
        },
        "outputId": "0622f502-ef23-4639-af75-bbcf314dd3a8"
      },
      "source": [
        "train_aug_df['target'].value_counts(normalize=True)"
      ],
      "execution_count": null,
      "outputs": [
        {
          "output_type": "execute_result",
          "data": {
            "text/plain": [
              "4    0.279394\n",
              "3    0.199829\n",
              "5    0.167193\n",
              "0    0.095307\n",
              "2    0.093643\n",
              "1    0.084087\n",
              "6    0.080546\n",
              "Name: target, dtype: float64"
            ]
          },
          "metadata": {
            "tags": []
          },
          "execution_count": 16
        }
      ]
    },
    {
      "cell_type": "code",
      "metadata": {
        "id": "KUS5oAuRavFJ",
        "colab_type": "code",
        "colab": {
          "base_uri": "https://localhost:8080/",
          "height": 151
        },
        "outputId": "6db1b42a-f9c9-4658-e590-f588b24987d2"
      },
      "source": [
        "test_df['target'].value_counts(normalize=True)"
      ],
      "execution_count": null,
      "outputs": [
        {
          "output_type": "execute_result",
          "data": {
            "text/plain": [
              "4    0.279415\n",
              "3    0.199781\n",
              "5    0.167131\n",
              "0    0.095361\n",
              "2    0.093669\n",
              "1    0.084113\n",
              "6    0.080530\n",
              "Name: target, dtype: float64"
            ]
          },
          "metadata": {
            "tags": []
          },
          "execution_count": 17
        }
      ]
    },
    {
      "cell_type": "code",
      "metadata": {
        "id": "sJSY34ShavL_",
        "colab_type": "code",
        "colab": {}
      },
      "source": [
        "train_aug_filenames_list = list(train_aug_df['filename'])\n",
        "train_aug_labels_list = list(train_aug_df['target'])\n",
        "\n",
        "test_filenames_list = list(test_df['filename'])\n",
        "test_labels_list = list(test_df['target'])"
      ],
      "execution_count": null,
      "outputs": []
    },
    {
      "cell_type": "code",
      "metadata": {
        "id": "S7ye8s5savP5",
        "colab_type": "code",
        "colab": {}
      },
      "source": [
        "train_aug_filenames_tensor = tf.constant(train_aug_filenames_list)\n",
        "train_aug_labels_tensor = tf.constant(train_aug_labels_list)\n",
        "\n",
        "test_filenames_tensor = tf.constant(test_filenames_list)\n",
        "test_labels_tensor = tf.constant(test_labels_list)"
      ],
      "execution_count": null,
      "outputs": []
    },
    {
      "cell_type": "code",
      "metadata": {
        "id": "4ALPko3Xavbo",
        "colab_type": "code",
        "colab": {}
      },
      "source": [
        "num_classes = 7\n",
        "\n",
        "def _parse_function(filename, label):\n",
        "    \n",
        "    image_string = tf.io.read_file(filename)\n",
        "    image_decoded = tf.io.decode_jpeg(image_string, channels=1)    \n",
        "    label = tf.one_hot(label, num_classes)\n",
        "\n",
        "    return image_decoded, label"
      ],
      "execution_count": null,
      "outputs": []
    },
    {
      "cell_type": "code",
      "metadata": {
        "id": "OTyXZ2tUavZh",
        "colab_type": "code",
        "colab": {}
      },
      "source": [
        "train_aug_dataset = tf.data.Dataset.from_tensor_slices((train_aug_filenames_tensor, train_aug_labels_tensor))\n",
        "train_aug_dataset = train_aug_dataset.map(_parse_function)\n",
        "train_aug_dataset = train_aug_dataset.batch(512)    \n",
        "\n",
        "test_dataset = tf.data.Dataset.from_tensor_slices((test_filenames_tensor, test_labels_tensor))\n",
        "test_dataset = test_dataset.map(_parse_function)\n",
        "test_dataset = test_dataset.batch(512)    "
      ],
      "execution_count": null,
      "outputs": []
    },
    {
      "cell_type": "markdown",
      "metadata": {
        "id": "1jRnurPmVkz9",
        "colab_type": "text"
      },
      "source": [
        "# CNN Model"
      ]
    },
    {
      "cell_type": "code",
      "metadata": {
        "id": "kcW44JspavWb",
        "colab_type": "code",
        "colab": {
          "base_uri": "https://localhost:8080/",
          "height": 521
        },
        "outputId": "7ee23cea-610a-40c7-c338-dab95c7f5ee5"
      },
      "source": [
        "model = Sequential()\n",
        "\n",
        "model.add(Conv2D(filters=32, kernel_size=3, activation='relu', input_shape=(200, 200, 1)))    \n",
        "model.add(AveragePooling2D(pool_size=(2,2)))\n",
        "\n",
        "model.add(Conv2D(filters=64, kernel_size=3, activation='relu'))\n",
        "model.add(AveragePooling2D(pool_size=(2,2)))\n",
        "\n",
        "model.add(Conv2D(filters=128, kernel_size=3, activation='relu'))\n",
        "model.add(AveragePooling2D(pool_size=(2,2)))\n",
        "\n",
        "model.add(Conv2D(filters=256, kernel_size=3, activation='relu'))\n",
        "model.add(AveragePooling2D(pool_size=(2,2)))\n",
        "\n",
        "model.add(GlobalAveragePooling2D())\n",
        "model.add(Dense(132, activation='relu'))\n",
        "model.add(Dense(7, activation='softmax'))\n",
        "\n",
        "model.summary()"
      ],
      "execution_count": null,
      "outputs": [
        {
          "output_type": "stream",
          "text": [
            "Model: \"sequential\"\n",
            "_________________________________________________________________\n",
            "Layer (type)                 Output Shape              Param #   \n",
            "=================================================================\n",
            "conv2d (Conv2D)              (None, 198, 198, 32)      320       \n",
            "_________________________________________________________________\n",
            "average_pooling2d (AveragePo (None, 99, 99, 32)        0         \n",
            "_________________________________________________________________\n",
            "conv2d_1 (Conv2D)            (None, 97, 97, 64)        18496     \n",
            "_________________________________________________________________\n",
            "average_pooling2d_1 (Average (None, 48, 48, 64)        0         \n",
            "_________________________________________________________________\n",
            "conv2d_2 (Conv2D)            (None, 46, 46, 128)       73856     \n",
            "_________________________________________________________________\n",
            "average_pooling2d_2 (Average (None, 23, 23, 128)       0         \n",
            "_________________________________________________________________\n",
            "conv2d_3 (Conv2D)            (None, 21, 21, 256)       295168    \n",
            "_________________________________________________________________\n",
            "average_pooling2d_3 (Average (None, 10, 10, 256)       0         \n",
            "_________________________________________________________________\n",
            "global_average_pooling2d (Gl (None, 256)               0         \n",
            "_________________________________________________________________\n",
            "dense (Dense)                (None, 132)               33924     \n",
            "_________________________________________________________________\n",
            "dense_1 (Dense)              (None, 7)                 931       \n",
            "=================================================================\n",
            "Total params: 422,695\n",
            "Trainable params: 422,695\n",
            "Non-trainable params: 0\n",
            "_________________________________________________________________\n"
          ],
          "name": "stdout"
        }
      ]
    },
    {
      "cell_type": "code",
      "metadata": {
        "id": "uBG5MY8zavTn",
        "colab_type": "code",
        "colab": {}
      },
      "source": [
        "model.compile(loss='categorical_crossentropy', optimizer='adam', metrics=['accuracy'])"
      ],
      "execution_count": null,
      "outputs": []
    },
    {
      "cell_type": "code",
      "metadata": {
        "id": "nWy7fRfHfu8L",
        "colab_type": "code",
        "colab": {}
      },
      "source": [
        "tensorboard = TensorBoard(log_dir=f\"/content/drive/My Drive/Age_Classification_with_Faces/cnn_logs/final_cnn\")"
      ],
      "execution_count": null,
      "outputs": []
    },
    {
      "cell_type": "code",
      "metadata": {
        "id": "X6dQDDhmfuzo",
        "colab_type": "code",
        "colab": {}
      },
      "source": [
        "checkpoint = ModelCheckpoint(\"/content/drive/My Drive/Age_Classification_with_Faces/age_model_checkpoint.h5\",monitor='val_accuracy',save_best_only=True,verbose=1)"
      ],
      "execution_count": null,
      "outputs": []
    },
    {
      "cell_type": "code",
      "metadata": {
        "id": "hU4LJT6xYjJp",
        "colab_type": "code",
        "colab": {
          "base_uri": "https://localhost:8080/",
          "height": 1000
        },
        "outputId": "94da9ab6-8652-412c-b3c1-ea22e446af75"
      },
      "source": [
        "hist = model.fit(train_aug_dataset,\n",
        "                 batch_size=512,\n",
        "                 validation_data=test_dataset,\n",
        "                 epochs=60,\n",
        "                 callbacks=[tensorboard, checkpoint],\n",
        "                 shuffle=False\n",
        "                )"
      ],
      "execution_count": null,
      "outputs": [
        {
          "output_type": "stream",
          "text": [
            "Epoch 1/60\n",
            "458/458 [==============================] - ETA: 0s - loss: 1.8012 - accuracy: 0.3026\n",
            "Epoch 00001: val_accuracy improved from -inf to 0.34422, saving model to /content/drive/My Drive/Age_Classification_with_Faces/final_cnn_model_checkpoint.h5\n",
            "458/458 [==============================] - 239s 522ms/step - loss: 1.8012 - accuracy: 0.3026 - val_loss: 1.6542 - val_accuracy: 0.3442\n",
            "Epoch 2/60\n",
            "458/458 [==============================] - ETA: 0s - loss: 1.5128 - accuracy: 0.3898\n",
            "Epoch 00002: val_accuracy improved from 0.34422 to 0.42455, saving model to /content/drive/My Drive/Age_Classification_with_Faces/final_cnn_model_checkpoint.h5\n",
            "458/458 [==============================] - 167s 365ms/step - loss: 1.5128 - accuracy: 0.3898 - val_loss: 1.4042 - val_accuracy: 0.4245\n",
            "Epoch 3/60\n",
            "458/458 [==============================] - ETA: 0s - loss: 1.3421 - accuracy: 0.4530\n",
            "Epoch 00003: val_accuracy improved from 0.42455 to 0.47362, saving model to /content/drive/My Drive/Age_Classification_with_Faces/final_cnn_model_checkpoint.h5\n",
            "458/458 [==============================] - 157s 343ms/step - loss: 1.3421 - accuracy: 0.4530 - val_loss: 1.2903 - val_accuracy: 0.4736\n",
            "Epoch 4/60\n",
            "458/458 [==============================] - ETA: 0s - loss: 1.1816 - accuracy: 0.5112\n",
            "Epoch 00004: val_accuracy improved from 0.47362 to 0.54390, saving model to /content/drive/My Drive/Age_Classification_with_Faces/final_cnn_model_checkpoint.h5\n",
            "458/458 [==============================] - 158s 345ms/step - loss: 1.1816 - accuracy: 0.5112 - val_loss: 1.0875 - val_accuracy: 0.5439\n",
            "Epoch 5/60\n",
            "458/458 [==============================] - ETA: 0s - loss: 1.1024 - accuracy: 0.5406\n",
            "Epoch 00005: val_accuracy improved from 0.54390 to 0.56460, saving model to /content/drive/My Drive/Age_Classification_with_Faces/final_cnn_model_checkpoint.h5\n",
            "458/458 [==============================] - 159s 348ms/step - loss: 1.1024 - accuracy: 0.5406 - val_loss: 1.0456 - val_accuracy: 0.5646\n",
            "Epoch 6/60\n",
            "458/458 [==============================] - ETA: 0s - loss: 1.0133 - accuracy: 0.5748\n",
            "Epoch 00006: val_accuracy improved from 0.56460 to 0.57874, saving model to /content/drive/My Drive/Age_Classification_with_Faces/final_cnn_model_checkpoint.h5\n",
            "458/458 [==============================] - 159s 347ms/step - loss: 1.0133 - accuracy: 0.5748 - val_loss: 1.0022 - val_accuracy: 0.5787\n",
            "Epoch 7/60\n",
            "458/458 [==============================] - ETA: 0s - loss: 0.9679 - accuracy: 0.5932\n",
            "Epoch 00007: val_accuracy improved from 0.57874 to 0.60472, saving model to /content/drive/My Drive/Age_Classification_with_Faces/final_cnn_model_checkpoint.h5\n",
            "458/458 [==============================] - 157s 344ms/step - loss: 0.9679 - accuracy: 0.5932 - val_loss: 0.9479 - val_accuracy: 0.6047\n",
            "Epoch 8/60\n",
            "458/458 [==============================] - ETA: 0s - loss: 0.9221 - accuracy: 0.6113\n",
            "Epoch 00008: val_accuracy improved from 0.60472 to 0.62891, saving model to /content/drive/My Drive/Age_Classification_with_Faces/final_cnn_model_checkpoint.h5\n",
            "458/458 [==============================] - 157s 342ms/step - loss: 0.9221 - accuracy: 0.6113 - val_loss: 0.8906 - val_accuracy: 0.6289\n",
            "Epoch 9/60\n",
            "458/458 [==============================] - ETA: 0s - loss: 0.8864 - accuracy: 0.6253\n",
            "Epoch 00009: val_accuracy improved from 0.62891 to 0.62911, saving model to /content/drive/My Drive/Age_Classification_with_Faces/final_cnn_model_checkpoint.h5\n",
            "458/458 [==============================] - 157s 343ms/step - loss: 0.8864 - accuracy: 0.6253 - val_loss: 0.8774 - val_accuracy: 0.6291\n",
            "Epoch 10/60\n",
            "458/458 [==============================] - ETA: 0s - loss: 0.8498 - accuracy: 0.6409\n",
            "Epoch 00010: val_accuracy improved from 0.62911 to 0.65011, saving model to /content/drive/My Drive/Age_Classification_with_Faces/final_cnn_model_checkpoint.h5\n",
            "458/458 [==============================] - 160s 348ms/step - loss: 0.8498 - accuracy: 0.6409 - val_loss: 0.8267 - val_accuracy: 0.6501\n",
            "Epoch 11/60\n",
            "458/458 [==============================] - ETA: 0s - loss: 0.8216 - accuracy: 0.6519\n",
            "Epoch 00011: val_accuracy improved from 0.65011 to 0.65548, saving model to /content/drive/My Drive/Age_Classification_with_Faces/final_cnn_model_checkpoint.h5\n",
            "458/458 [==============================] - 159s 347ms/step - loss: 0.8216 - accuracy: 0.6519 - val_loss: 0.8095 - val_accuracy: 0.6555\n",
            "Epoch 12/60\n",
            "458/458 [==============================] - ETA: 0s - loss: 0.7967 - accuracy: 0.6624\n",
            "Epoch 00012: val_accuracy improved from 0.65548 to 0.65817, saving model to /content/drive/My Drive/Age_Classification_with_Faces/final_cnn_model_checkpoint.h5\n",
            "458/458 [==============================] - 159s 346ms/step - loss: 0.7967 - accuracy: 0.6624 - val_loss: 0.7897 - val_accuracy: 0.6582\n",
            "Epoch 13/60\n",
            "458/458 [==============================] - ETA: 0s - loss: 0.7693 - accuracy: 0.6746\n",
            "Epoch 00013: val_accuracy improved from 0.65817 to 0.66643, saving model to /content/drive/My Drive/Age_Classification_with_Faces/final_cnn_model_checkpoint.h5\n",
            "458/458 [==============================] - 159s 348ms/step - loss: 0.7693 - accuracy: 0.6746 - val_loss: 0.7803 - val_accuracy: 0.6664\n",
            "Epoch 14/60\n",
            "458/458 [==============================] - ETA: 0s - loss: 0.7488 - accuracy: 0.6837\n",
            "Epoch 00014: val_accuracy improved from 0.66643 to 0.66693, saving model to /content/drive/My Drive/Age_Classification_with_Faces/final_cnn_model_checkpoint.h5\n",
            "458/458 [==============================] - 158s 345ms/step - loss: 0.7488 - accuracy: 0.6837 - val_loss: 0.7745 - val_accuracy: 0.6669\n",
            "Epoch 15/60\n",
            "458/458 [==============================] - ETA: 0s - loss: 0.7318 - accuracy: 0.6907\n",
            "Epoch 00015: val_accuracy improved from 0.66693 to 0.68256, saving model to /content/drive/My Drive/Age_Classification_with_Faces/final_cnn_model_checkpoint.h5\n",
            "458/458 [==============================] - 160s 348ms/step - loss: 0.7318 - accuracy: 0.6907 - val_loss: 0.7422 - val_accuracy: 0.6826\n",
            "Epoch 16/60\n",
            "458/458 [==============================] - ETA: 0s - loss: 0.7069 - accuracy: 0.7023\n",
            "Epoch 00016: val_accuracy improved from 0.68256 to 0.69530, saving model to /content/drive/My Drive/Age_Classification_with_Faces/final_cnn_model_checkpoint.h5\n",
            "458/458 [==============================] - 158s 346ms/step - loss: 0.7069 - accuracy: 0.7023 - val_loss: 0.7225 - val_accuracy: 0.6953\n",
            "Epoch 17/60\n",
            "458/458 [==============================] - ETA: 0s - loss: 0.6881 - accuracy: 0.7100\n",
            "Epoch 00017: val_accuracy improved from 0.69530 to 0.70764, saving model to /content/drive/My Drive/Age_Classification_with_Faces/final_cnn_model_checkpoint.h5\n",
            "458/458 [==============================] - 159s 348ms/step - loss: 0.6881 - accuracy: 0.7100 - val_loss: 0.6984 - val_accuracy: 0.7076\n",
            "Epoch 18/60\n",
            "458/458 [==============================] - ETA: 0s - loss: 0.6739 - accuracy: 0.7160\n",
            "Epoch 00018: val_accuracy improved from 0.70764 to 0.71212, saving model to /content/drive/My Drive/Age_Classification_with_Faces/final_cnn_model_checkpoint.h5\n",
            "458/458 [==============================] - 160s 349ms/step - loss: 0.6739 - accuracy: 0.7160 - val_loss: 0.6887 - val_accuracy: 0.7121\n",
            "Epoch 19/60\n",
            "458/458 [==============================] - ETA: 0s - loss: 0.6569 - accuracy: 0.7246\n",
            "Epoch 00019: val_accuracy improved from 0.71212 to 0.71392, saving model to /content/drive/My Drive/Age_Classification_with_Faces/final_cnn_model_checkpoint.h5\n",
            "458/458 [==============================] - 160s 350ms/step - loss: 0.6569 - accuracy: 0.7246 - val_loss: 0.6841 - val_accuracy: 0.7139\n",
            "Epoch 20/60\n",
            "458/458 [==============================] - ETA: 0s - loss: 0.6314 - accuracy: 0.7349\n",
            "Epoch 00020: val_accuracy improved from 0.71392 to 0.71999, saving model to /content/drive/My Drive/Age_Classification_with_Faces/final_cnn_model_checkpoint.h5\n",
            "458/458 [==============================] - 161s 351ms/step - loss: 0.6314 - accuracy: 0.7349 - val_loss: 0.6750 - val_accuracy: 0.7200\n",
            "Epoch 21/60\n",
            "458/458 [==============================] - ETA: 0s - loss: 0.6195 - accuracy: 0.7406\n",
            "Epoch 00021: val_accuracy did not improve from 0.71999\n",
            "458/458 [==============================] - 158s 345ms/step - loss: 0.6195 - accuracy: 0.7406 - val_loss: 0.6737 - val_accuracy: 0.7163\n",
            "Epoch 22/60\n",
            "458/458 [==============================] - ETA: 0s - loss: 0.5989 - accuracy: 0.7496\n",
            "Epoch 00022: val_accuracy improved from 0.71999 to 0.73173, saving model to /content/drive/My Drive/Age_Classification_with_Faces/final_cnn_model_checkpoint.h5\n",
            "458/458 [==============================] - 159s 347ms/step - loss: 0.5989 - accuracy: 0.7496 - val_loss: 0.6507 - val_accuracy: 0.7317\n",
            "Epoch 23/60\n",
            "458/458 [==============================] - ETA: 0s - loss: 0.5838 - accuracy: 0.7561\n",
            "Epoch 00023: val_accuracy improved from 0.73173 to 0.73940, saving model to /content/drive/My Drive/Age_Classification_with_Faces/final_cnn_model_checkpoint.h5\n",
            "458/458 [==============================] - 161s 353ms/step - loss: 0.5838 - accuracy: 0.7561 - val_loss: 0.6339 - val_accuracy: 0.7394\n",
            "Epoch 24/60\n",
            "458/458 [==============================] - ETA: 0s - loss: 0.5614 - accuracy: 0.7663\n",
            "Epoch 00024: val_accuracy did not improve from 0.73940\n",
            "458/458 [==============================] - 157s 343ms/step - loss: 0.5614 - accuracy: 0.7663 - val_loss: 0.6437 - val_accuracy: 0.7298\n",
            "Epoch 25/60\n",
            "458/458 [==============================] - ETA: 0s - loss: 0.5397 - accuracy: 0.7762\n",
            "Epoch 00025: val_accuracy did not improve from 0.73940\n",
            "458/458 [==============================] - 156s 341ms/step - loss: 0.5397 - accuracy: 0.7762 - val_loss: 0.6435 - val_accuracy: 0.7358\n",
            "Epoch 26/60\n",
            "458/458 [==============================] - ETA: 0s - loss: 0.5250 - accuracy: 0.7829\n",
            "Epoch 00026: val_accuracy improved from 0.73940 to 0.74507, saving model to /content/drive/My Drive/Age_Classification_with_Faces/final_cnn_model_checkpoint.h5\n",
            "458/458 [==============================] - 157s 343ms/step - loss: 0.5250 - accuracy: 0.7829 - val_loss: 0.6305 - val_accuracy: 0.7451\n",
            "Epoch 27/60\n",
            "458/458 [==============================] - ETA: 0s - loss: 0.5078 - accuracy: 0.7902\n",
            "Epoch 00027: val_accuracy improved from 0.74507 to 0.76279, saving model to /content/drive/My Drive/Age_Classification_with_Faces/final_cnn_model_checkpoint.h5\n",
            "458/458 [==============================] - 159s 347ms/step - loss: 0.5078 - accuracy: 0.7902 - val_loss: 0.6019 - val_accuracy: 0.7628\n",
            "Epoch 28/60\n",
            "458/458 [==============================] - ETA: 0s - loss: 0.4840 - accuracy: 0.8004\n",
            "Epoch 00028: val_accuracy did not improve from 0.76279\n",
            "458/458 [==============================] - 158s 346ms/step - loss: 0.4840 - accuracy: 0.8004 - val_loss: 0.6288 - val_accuracy: 0.7563\n",
            "Epoch 29/60\n",
            "458/458 [==============================] - ETA: 0s - loss: 0.4720 - accuracy: 0.8060\n",
            "Epoch 00029: val_accuracy did not improve from 0.76279\n",
            "458/458 [==============================] - 159s 346ms/step - loss: 0.4720 - accuracy: 0.8060 - val_loss: 0.6352 - val_accuracy: 0.7546\n",
            "Epoch 30/60\n",
            "458/458 [==============================] - ETA: 0s - loss: 0.4666 - accuracy: 0.8083\n",
            "Epoch 00030: val_accuracy did not improve from 0.76279\n",
            "458/458 [==============================] - 160s 348ms/step - loss: 0.4666 - accuracy: 0.8083 - val_loss: 0.6735 - val_accuracy: 0.7447\n",
            "Epoch 31/60\n",
            "458/458 [==============================] - ETA: 0s - loss: 0.4653 - accuracy: 0.8080\n",
            "Epoch 00031: val_accuracy did not improve from 0.76279\n",
            "458/458 [==============================] - 159s 348ms/step - loss: 0.4653 - accuracy: 0.8080 - val_loss: 0.6378 - val_accuracy: 0.7586\n",
            "Epoch 32/60\n",
            "458/458 [==============================] - ETA: 0s - loss: 0.4458 - accuracy: 0.8168\n",
            "Epoch 00032: val_accuracy improved from 0.76279 to 0.77026, saving model to /content/drive/My Drive/Age_Classification_with_Faces/final_cnn_model_checkpoint.h5\n",
            "458/458 [==============================] - 159s 348ms/step - loss: 0.4458 - accuracy: 0.8168 - val_loss: 0.6101 - val_accuracy: 0.7703\n",
            "Epoch 33/60\n",
            "458/458 [==============================] - ETA: 0s - loss: 0.4229 - accuracy: 0.8278\n",
            "Epoch 00033: val_accuracy did not improve from 0.77026\n",
            "458/458 [==============================] - 158s 346ms/step - loss: 0.4229 - accuracy: 0.8278 - val_loss: 0.6595 - val_accuracy: 0.7536\n",
            "Epoch 34/60\n",
            "458/458 [==============================] - ETA: 0s - loss: 0.4254 - accuracy: 0.8259\n",
            "Epoch 00034: val_accuracy did not improve from 0.77026\n",
            "458/458 [==============================] - 159s 348ms/step - loss: 0.4254 - accuracy: 0.8259 - val_loss: 0.6867 - val_accuracy: 0.7438\n",
            "Epoch 35/60\n",
            "458/458 [==============================] - ETA: 0s - loss: 0.4272 - accuracy: 0.8255\n",
            "Epoch 00035: val_accuracy improved from 0.77026 to 0.77284, saving model to /content/drive/My Drive/Age_Classification_with_Faces/final_cnn_model_checkpoint.h5\n",
            "458/458 [==============================] - 161s 351ms/step - loss: 0.4272 - accuracy: 0.8255 - val_loss: 0.6146 - val_accuracy: 0.7728\n",
            "Epoch 36/60\n",
            "458/458 [==============================] - ETA: 0s - loss: 0.4015 - accuracy: 0.8368\n",
            "Epoch 00036: val_accuracy improved from 0.77284 to 0.77354, saving model to /content/drive/My Drive/Age_Classification_with_Faces/final_cnn_model_checkpoint.h5\n",
            "458/458 [==============================] - 161s 351ms/step - loss: 0.4015 - accuracy: 0.8368 - val_loss: 0.6200 - val_accuracy: 0.7735\n",
            "Epoch 37/60\n",
            "458/458 [==============================] - ETA: 0s - loss: 0.3762 - accuracy: 0.8479\n",
            "Epoch 00037: val_accuracy improved from 0.77354 to 0.77464, saving model to /content/drive/My Drive/Age_Classification_with_Faces/final_cnn_model_checkpoint.h5\n",
            "458/458 [==============================] - 161s 352ms/step - loss: 0.3762 - accuracy: 0.8479 - val_loss: 0.6310 - val_accuracy: 0.7746\n",
            "Epoch 38/60\n",
            "458/458 [==============================] - ETA: 0s - loss: 0.3576 - accuracy: 0.8567\n",
            "Epoch 00038: val_accuracy improved from 0.77464 to 0.77782, saving model to /content/drive/My Drive/Age_Classification_with_Faces/final_cnn_model_checkpoint.h5\n",
            "458/458 [==============================] - 161s 351ms/step - loss: 0.3576 - accuracy: 0.8567 - val_loss: 0.6464 - val_accuracy: 0.7778\n",
            "Epoch 39/60\n",
            "458/458 [==============================] - ETA: 0s - loss: 0.3421 - accuracy: 0.8626\n",
            "Epoch 00039: val_accuracy did not improve from 0.77782\n",
            "458/458 [==============================] - 161s 351ms/step - loss: 0.3421 - accuracy: 0.8626 - val_loss: 0.6616 - val_accuracy: 0.7755\n",
            "Epoch 40/60\n",
            "458/458 [==============================] - ETA: 0s - loss: 0.3394 - accuracy: 0.8634\n",
            "Epoch 00040: val_accuracy improved from 0.77782 to 0.79007, saving model to /content/drive/My Drive/Age_Classification_with_Faces/final_cnn_model_checkpoint.h5\n",
            "458/458 [==============================] - 161s 351ms/step - loss: 0.3394 - accuracy: 0.8634 - val_loss: 0.6278 - val_accuracy: 0.7901\n",
            "Epoch 41/60\n",
            "458/458 [==============================] - ETA: 0s - loss: 0.3341 - accuracy: 0.8645\n",
            "Epoch 00041: val_accuracy did not improve from 0.79007\n",
            "458/458 [==============================] - 161s 351ms/step - loss: 0.3341 - accuracy: 0.8645 - val_loss: 0.6520 - val_accuracy: 0.7832\n",
            "Epoch 42/60\n",
            "458/458 [==============================] - ETA: 0s - loss: 0.3271 - accuracy: 0.8679\n",
            "Epoch 00042: val_accuracy did not improve from 0.79007\n",
            "458/458 [==============================] - 160s 350ms/step - loss: 0.3271 - accuracy: 0.8679 - val_loss: 0.6967 - val_accuracy: 0.7728\n",
            "Epoch 43/60\n",
            "458/458 [==============================] - ETA: 0s - loss: 0.3450 - accuracy: 0.8596\n",
            "Epoch 00043: val_accuracy did not improve from 0.79007\n",
            "458/458 [==============================] - 161s 350ms/step - loss: 0.3450 - accuracy: 0.8596 - val_loss: 0.6429 - val_accuracy: 0.7801\n",
            "Epoch 44/60\n",
            "458/458 [==============================] - ETA: 0s - loss: 0.3586 - accuracy: 0.8537\n",
            "Epoch 00044: val_accuracy improved from 0.79007 to 0.79405, saving model to /content/drive/My Drive/Age_Classification_with_Faces/final_cnn_model_checkpoint.h5\n",
            "458/458 [==============================] - 161s 351ms/step - loss: 0.3586 - accuracy: 0.8537 - val_loss: 0.6073 - val_accuracy: 0.7940\n",
            "Epoch 45/60\n",
            "458/458 [==============================] - ETA: 0s - loss: 0.3431 - accuracy: 0.8595\n",
            "Epoch 00045: val_accuracy improved from 0.79405 to 0.81356, saving model to /content/drive/My Drive/Age_Classification_with_Faces/final_cnn_model_checkpoint.h5\n",
            "458/458 [==============================] - 159s 348ms/step - loss: 0.3431 - accuracy: 0.8595 - val_loss: 0.5525 - val_accuracy: 0.8136\n",
            "Epoch 46/60\n",
            "458/458 [==============================] - ETA: 0s - loss: 0.3224 - accuracy: 0.8695\n",
            "Epoch 00046: val_accuracy improved from 0.81356 to 0.81844, saving model to /content/drive/My Drive/Age_Classification_with_Faces/final_cnn_model_checkpoint.h5\n",
            "458/458 [==============================] - 158s 344ms/step - loss: 0.3224 - accuracy: 0.8695 - val_loss: 0.5507 - val_accuracy: 0.8184\n",
            "Epoch 47/60\n",
            "458/458 [==============================] - ETA: 0s - loss: 0.2965 - accuracy: 0.8805\n",
            "Epoch 00047: val_accuracy improved from 0.81844 to 0.82700, saving model to /content/drive/My Drive/Age_Classification_with_Faces/final_cnn_model_checkpoint.h5\n",
            "458/458 [==============================] - 159s 347ms/step - loss: 0.2965 - accuracy: 0.8805 - val_loss: 0.5417 - val_accuracy: 0.8270\n",
            "Epoch 48/60\n",
            "458/458 [==============================] - ETA: 0s - loss: 0.2862 - accuracy: 0.8850\n",
            "Epoch 00048: val_accuracy did not improve from 0.82700\n",
            "458/458 [==============================] - 158s 346ms/step - loss: 0.2862 - accuracy: 0.8850 - val_loss: 0.5690 - val_accuracy: 0.8205\n",
            "Epoch 49/60\n",
            "458/458 [==============================] - ETA: 0s - loss: 0.2640 - accuracy: 0.8946\n",
            "Epoch 00049: val_accuracy did not improve from 0.82700\n",
            "458/458 [==============================] - 159s 346ms/step - loss: 0.2640 - accuracy: 0.8946 - val_loss: 0.5942 - val_accuracy: 0.8204\n",
            "Epoch 50/60\n",
            "458/458 [==============================] - ETA: 0s - loss: 0.2433 - accuracy: 0.9039\n",
            "Epoch 00050: val_accuracy did not improve from 0.82700\n",
            "458/458 [==============================] - 159s 347ms/step - loss: 0.2433 - accuracy: 0.9039 - val_loss: 0.6500 - val_accuracy: 0.8138\n",
            "Epoch 51/60\n",
            "458/458 [==============================] - ETA: 0s - loss: 0.2316 - accuracy: 0.9089\n",
            "Epoch 00051: val_accuracy did not improve from 0.82700\n",
            "458/458 [==============================] - 157s 344ms/step - loss: 0.2316 - accuracy: 0.9089 - val_loss: 0.6703 - val_accuracy: 0.8113\n",
            "Epoch 52/60\n",
            "458/458 [==============================] - ETA: 0s - loss: 0.2444 - accuracy: 0.9027\n",
            "Epoch 00052: val_accuracy did not improve from 0.82700\n",
            "458/458 [==============================] - 157s 342ms/step - loss: 0.2444 - accuracy: 0.9027 - val_loss: 0.6352 - val_accuracy: 0.8150\n",
            "Epoch 53/60\n",
            "458/458 [==============================] - ETA: 0s - loss: 0.2602 - accuracy: 0.8964\n",
            "Epoch 00053: val_accuracy did not improve from 0.82700\n",
            "458/458 [==============================] - 156s 341ms/step - loss: 0.2602 - accuracy: 0.8964 - val_loss: 0.6010 - val_accuracy: 0.8189\n",
            "Epoch 54/60\n",
            "458/458 [==============================] - ETA: 0s - loss: 0.2751 - accuracy: 0.8902\n",
            "Epoch 00054: val_accuracy did not improve from 0.82700\n",
            "458/458 [==============================] - 157s 342ms/step - loss: 0.2751 - accuracy: 0.8902 - val_loss: 0.6712 - val_accuracy: 0.8036\n",
            "Epoch 55/60\n",
            "458/458 [==============================] - ETA: 0s - loss: 0.2772 - accuracy: 0.8885\n",
            "Epoch 00055: val_accuracy did not improve from 0.82700\n",
            "458/458 [==============================] - 156s 341ms/step - loss: 0.2772 - accuracy: 0.8885 - val_loss: 0.7099 - val_accuracy: 0.7963\n",
            "Epoch 56/60\n",
            "458/458 [==============================] - ETA: 0s - loss: 0.2632 - accuracy: 0.8946\n",
            "Epoch 00056: val_accuracy did not improve from 0.82700\n",
            "458/458 [==============================] - 156s 341ms/step - loss: 0.2632 - accuracy: 0.8946 - val_loss: 0.8139 - val_accuracy: 0.7681\n",
            "Epoch 57/60\n",
            "458/458 [==============================] - ETA: 0s - loss: 0.2536 - accuracy: 0.8982\n",
            "Epoch 00057: val_accuracy did not improve from 0.82700\n",
            "458/458 [==============================] - 156s 341ms/step - loss: 0.2536 - accuracy: 0.8982 - val_loss: 0.8669 - val_accuracy: 0.7616\n",
            "Epoch 58/60\n",
            "458/458 [==============================] - ETA: 0s - loss: 0.2498 - accuracy: 0.8997\n",
            "Epoch 00058: val_accuracy did not improve from 0.82700\n",
            "458/458 [==============================] - 156s 341ms/step - loss: 0.2498 - accuracy: 0.8997 - val_loss: 0.8242 - val_accuracy: 0.7739\n",
            "Epoch 59/60\n",
            "458/458 [==============================] - ETA: 0s - loss: 0.2467 - accuracy: 0.9014\n",
            "Epoch 00059: val_accuracy did not improve from 0.82700\n",
            "458/458 [==============================] - 157s 342ms/step - loss: 0.2467 - accuracy: 0.9014 - val_loss: 0.9430 - val_accuracy: 0.7515\n",
            "Epoch 60/60\n",
            "458/458 [==============================] - ETA: 0s - loss: 0.2552 - accuracy: 0.8977\n",
            "Epoch 00060: val_accuracy did not improve from 0.82700\n",
            "458/458 [==============================] - 159s 348ms/step - loss: 0.2552 - accuracy: 0.8977 - val_loss: 0.7465 - val_accuracy: 0.7789\n"
          ],
          "name": "stdout"
        }
      ]
    },
    {
      "cell_type": "code",
      "metadata": {
        "id": "F75NJtVJU8oD",
        "colab_type": "code",
        "colab": {
          "base_uri": "https://localhost:8080/",
          "height": 34
        },
        "outputId": "55cda1e9-fd65-42d4-b183-3326ac0807ff"
      },
      "source": [
        "final_cnn_score = model.evaluate(test_dataset, verbose=1)"
      ],
      "execution_count": null,
      "outputs": [
        {
          "output_type": "stream",
          "text": [
            "20/20 [==============================] - 5s 232ms/step - loss: 0.7465 - accuracy: 0.7789\n"
          ],
          "name": "stdout"
        }
      ]
    },
    {
      "cell_type": "code",
      "metadata": {
        "id": "h5JdZYFMU8s0",
        "colab_type": "code",
        "colab": {
          "base_uri": "https://localhost:8080/",
          "height": 50
        },
        "outputId": "c7364131-a358-4350-9fad-c16c21439952"
      },
      "source": [
        "final_cnn_labels = model.metrics_names\n",
        "print(f'CNN model {final_cnn_labels[0]} \\t\\t= {round(final_cnn_score[0], 3)}')\n",
        "print(f'CNN model {final_cnn_labels[1]} \\t= {round(final_cnn_score[1], 3)}')"
      ],
      "execution_count": null,
      "outputs": [
        {
          "output_type": "stream",
          "text": [
            "CNN model loss \t\t= 0.746\n",
            "CNN model accuracy \t= 0.779\n"
          ],
          "name": "stdout"
        }
      ]
    },
    {
      "cell_type": "code",
      "metadata": {
        "id": "fatkGFAkrjCF",
        "colab_type": "code",
        "colab": {}
      },
      "source": [
        "model.save(f\"/content/drive/My Drive/Age_Classification_with_Faces/final_age_model.h5\", save_format='h5')"
      ],
      "execution_count": null,
      "outputs": []
    },
    {
      "cell_type": "code",
      "metadata": {
        "id": "R1e1uYqHU8wx",
        "colab_type": "code",
        "colab": {}
      },
      "source": [
        "final_cnn_pred = model.predict(test_dataset)\n",
        "final_cnn_pred = model.argmax(axis=-1)"
      ],
      "execution_count": null,
      "outputs": []
    },
    {
      "cell_type": "code",
      "metadata": {
        "id": "T6hAs7SlU9Zi",
        "colab_type": "code",
        "colab": {
          "base_uri": "https://localhost:8080/",
          "height": 134
        },
        "outputId": "f3c7bd6e-0c06-4f7f-d1dd-fae9d1367a6e"
      },
      "source": [
        "conf_mat = confusion_matrix(test_labels_list, final_cnn_pred)\n",
        "conf_mat"
      ],
      "execution_count": null,
      "outputs": [
        {
          "output_type": "execute_result",
          "data": {
            "text/plain": [
              "array([[ 929,   21,    0,    0,    7,    1,    0],\n",
              "       [  33,  774,   26,    2,    6,    2,    2],\n",
              "       [   1,   50,  792,   35,   62,    1,    0],\n",
              "       [   5,   16,  230, 1049,  698,    9,    0],\n",
              "       [   2,   15,   62,  158, 2516,   47,    7],\n",
              "       [   1,    3,    7,   11,  473, 1034,  150],\n",
              "       [   0,    3,    4,    0,   23,   48,  731]])"
            ]
          },
          "metadata": {
            "tags": []
          },
          "execution_count": 31
        }
      ]
    },
    {
      "cell_type": "code",
      "metadata": {
        "id": "eTAm_uxBXJIK",
        "colab_type": "code",
        "colab": {}
      },
      "source": [
        "from visualize import plot_confusion_matrix"
      ],
      "execution_count": null,
      "outputs": []
    },
    {
      "cell_type": "code",
      "metadata": {
        "id": "Pne8gB-VXi9v",
        "colab_type": "code",
        "colab": {
          "base_uri": "https://localhost:8080/",
          "height": 431
        },
        "outputId": "62ff254c-7e2f-44f1-b2a7-d47a2149fe10"
      },
      "source": [
        "plt.style.use('dark_background')\n",
        "plot_confusion_matrix(conf_mat,classes = [\"(1-2)\",\"(3-9)\",\"(10-20)\",\"(21-27)\",\"(28-45)\",\"(46-65)\",\"(66-100)\"],title=\"Confusion Matrix\")"
      ],
      "execution_count": null,
      "outputs": [
        {
          "output_type": "stream",
          "text": [
            "Confusion matrix, without normalization\n",
            "[[ 929   21    0    0    7    1    0]\n",
            " [  33  774   26    2    6    2    2]\n",
            " [   1   50  792   35   62    1    0]\n",
            " [   5   16  230 1049  698    9    0]\n",
            " [   2   15   62  158 2516   47    7]\n",
            " [   1    3    7   11  473 1034  150]\n",
            " [   0    3    4    0   23   48  731]]\n"
          ],
          "name": "stdout"
        },
        {
          "output_type": "display_data",
          "data": {
            "image/png": "[encoded data removed]",
            "text/plain": [
              "<Figure size 432x288 with 2 Axes>"
            ]
          },
          "metadata": {
            "tags": []
          }
        }
      ]
    },
    {
      "cell_type": "code",
      "metadata": {
        "id": "nxAyDAMgYC5s",
        "colab_type": "code",
        "colab": {}
      },
      "source": [
        ""
      ],
      "execution_count": null,
      "outputs": []
    }
  ]
}